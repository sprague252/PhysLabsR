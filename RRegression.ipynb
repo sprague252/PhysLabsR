{
 "cells": [
  {
   "cell_type": "markdown",
   "metadata": {},
   "source": [
    "# Linear Regression Analysis in R"
   ]
  },
  {
   "cell_type": "markdown",
   "metadata": {},
   "source": [
    "This Jupyter notebook uses R to do linear regression analysis on a set of *x*-*y* points and plot the result."
   ]
  },
  {
   "cell_type": "markdown",
   "metadata": {},
   "source": [
    "## Instructions"
   ]
  },
  {
   "cell_type": "markdown",
   "metadata": {},
   "source": [
    "Change the code cells as needed and run them by pressing \\<shift\\>-\\<enter\\> while the cursor is in the cell or the cell is highlighted."
   ]
  },
  {
   "cell_type": "markdown",
   "metadata": {},
   "source": [
    "## Code"
   ]
  },
  {
   "cell_type": "markdown",
   "metadata": {},
   "source": [
    "Run the cell below to load the `ggplot2` library. We will need this to make a pretty plot of the result."
   ]
  },
  {
   "cell_type": "code",
   "execution_count": null,
   "metadata": {},
   "outputs": [],
   "source": [
    "library(ggplot2)"
   ]
  },
  {
   "cell_type": "markdown",
   "metadata": {},
   "source": [
    "The cell below loads the *x* and *y* points into a dataframe named `mydata`. Replace the numbers in parenthesees with your data points before running the cell."
   ]
  },
  {
   "cell_type": "code",
   "execution_count": null,
   "metadata": {},
   "outputs": [],
   "source": [
    "xpts <- c(1, 2, 3, 4, 5, 6)\n",
    "ypts <- c(1, 4.02, 5.9, 8.11, 10.02, 11.99)\n",
    "mydata <- data.frame(xpts, ypts)"
   ]
  },
  {
   "cell_type": "markdown",
   "metadata": {},
   "source": [
    "Run the cell below to display the dataframe `mydata` so you can be sure it is correct."
   ]
  },
  {
   "cell_type": "code",
   "execution_count": null,
   "metadata": {},
   "outputs": [],
   "source": [
    "mydata"
   ]
  },
  {
   "cell_type": "markdown",
   "metadata": {},
   "source": [
    "Run the cell below to make a linear regression on `mydata` and store the results in `linefit`."
   ]
  },
  {
   "cell_type": "code",
   "execution_count": null,
   "metadata": {},
   "outputs": [],
   "source": [
    "linefit <- lm(ypts ~ xpts, data=mydata)"
   ]
  },
  {
   "cell_type": "markdown",
   "metadata": {},
   "source": [
    "Run the cell below to show a summary of the linear regression with the essential information."
   ]
  },
  {
   "cell_type": "code",
   "execution_count": null,
   "metadata": {},
   "outputs": [],
   "source": [
    "summary(linefit)"
   ]
  },
  {
   "cell_type": "markdown",
   "metadata": {},
   "source": [
    "Run the cell below to show the fit values for the intercept and slope estimates. These are in the Estimate column in the summary above."
   ]
  },
  {
   "cell_type": "code",
   "execution_count": null,
   "metadata": {},
   "outputs": [],
   "source": [
    "coefficients(linefit)"
   ]
  },
  {
   "cell_type": "markdown",
   "metadata": {},
   "source": [
    "Since we often express a linear equation in the form $y = Ax + B$, the two cells below store the intercept as `B` and the slope as `A`. Run both cells to define them for later."
   ]
  },
  {
   "cell_type": "code",
   "execution_count": null,
   "metadata": {},
   "outputs": [],
   "source": [
    "B <- coefficients(linefit)[[1]]\n",
    "B"
   ]
  },
  {
   "cell_type": "code",
   "execution_count": null,
   "metadata": {},
   "outputs": [],
   "source": [
    "A <- coefficients(linefit)[[2]]\n",
    "A"
   ]
  },
  {
   "cell_type": "markdown",
   "metadata": {},
   "source": [
    "We will use the standard error of the fit residuals (residual standard error in the summary above) as our error bars. Run the cell below to define the varaible `stderror` with this value."
   ]
  },
  {
   "cell_type": "code",
   "execution_count": null,
   "metadata": {},
   "outputs": [],
   "source": [
    "stderror = sigma(linefit)\n",
    "stderror"
   ]
  },
  {
   "cell_type": "markdown",
   "metadata": {},
   "source": [
    "Run the cell below to show the T-test confifence intervals of the fit parameters (intercept and slope). These are 95% confidence intervals since there is a 5% total chance that the actual values are outside the intervals"
   ]
  },
  {
   "cell_type": "code",
   "execution_count": null,
   "metadata": {},
   "outputs": [],
   "source": [
    "confint(linefit)"
   ]
  },
  {
   "cell_type": "markdown",
   "metadata": {},
   "source": [
    "The cell below produces a basic plot of the data points, error bars, and fit line."
   ]
  },
  {
   "cell_type": "code",
   "execution_count": null,
   "metadata": {},
   "outputs": [],
   "source": [
    "plt <- ggplot(mydata, aes(x=xpts, y=ypts)) + \n",
    "    geom_point() +\n",
    "    geom_errorbar(aes(ymin=ypts-stderror, ymax=ypts+stderror), width=.2,\n",
    "                 position=position_dodge(0.05)) +\n",
    "    geom_abline(slope=A, intercept=B) \n",
    "print(plt)"
   ]
  },
  {
   "cell_type": "markdown",
   "metadata": {},
   "source": [
    "The cell below produces a configurable plot of the data points, error bars, and fit line. Adjust the following parameters to customize the plot."
   ]
  },
  {
   "cell_type": "markdown",
   "metadata": {},
   "source": [
    "* Change the values of `xmin`, `xmax`, `ymin`, and `ymax` to adjust the domain and range of the plot.\n",
    "* Change the values of `xlabel` and `ylabel` (inside the quotes) to set the axis labels.\n",
    "* Change the parameter `ratio.display` to adjust the aspect ratio of the plot. The value 1.618 is a common value used in publications.\n",
    "* Change the theme in the second to last line to change the look of the plot. Some themes to try are `theme_gray()`, `theme_bw()`, `theme_linedraw()`, `theme_light()`, `theme_dark()`, `theme_minimal()`, and `theme_classic()`."
   ]
  },
  {
   "cell_type": "code",
   "execution_count": null,
   "metadata": {},
   "outputs": [],
   "source": [
    "xmin <- 0\n",
    "xmax <- 7\n",
    "ymin <- 0\n",
    "ymax <- 15\n",
    "\n",
    "xlabel <- \"x\"\n",
    "ylabel <- \"y\"\n",
    "\n",
    "\n",
    "ratio.display <- 1.618\n",
    "ratio.values <- (xmax-xmin)/(ymax-ymin)\n",
    "plt <- ggplot(mydata, aes(x=xpts, y=ypts)) + \n",
    "    geom_point() +\n",
    "    geom_errorbar(aes(ymin=ypts-stderror, ymax=ypts+stderror), width=.2,\n",
    "                 position=position_dodge(0.05)) +\n",
    "    geom_abline(slope=A, intercept=B) + \n",
    "    coord_fixed(ratio.values / ratio.display) +\n",
    "  xlim(xmin, xmax) +\n",
    "  ylim(ymin, ymax) +\n",
    "  xlab(xlabel) +\n",
    "  ylab(ylabel) +\n",
    "  theme_bw()\n",
    "print(plt)"
   ]
  },
  {
   "cell_type": "markdown",
   "metadata": {},
   "source": [
    "Run the cell below to save the latest `ggplot`. Change the filename to wnatever you want. Change the extension to change the file type. Possible file types include \"eps\", \"ps\", \"tex\" (pictex), \"pdf\", \"jpeg\", \"tiff\", \"png\", \"bmp\", or \"svg\"."
   ]
  },
  {
   "cell_type": "code",
   "execution_count": null,
   "metadata": {},
   "outputs": [],
   "source": [
    "ggsave(\"myplot.pdf\")"
   ]
  },
  {
   "cell_type": "markdown",
   "metadata": {},
   "source": [
    "Once you save the file, you can download it by choosing the Download option when you right-click or control-click on the file name in the file list on the left.\n",
    "\n",
    "If you are running this on a mobile device that has no right-click capability, press and hold on the plot image above to save it to your device."
   ]
  },
  {
   "cell_type": "code",
   "execution_count": null,
   "metadata": {},
   "outputs": [],
   "source": []
  }
 ],
 "metadata": {
  "kernelspec": {
   "display_name": "PHYS Labs R",
   "language": "R",
   "name": "physlabsr"
  },
  "language_info": {
   "codemirror_mode": "r",
   "file_extension": ".r",
   "mimetype": "text/x-r-source",
   "name": "R",
   "pygments_lexer": "r",
   "version": "3.6.1"
  }
 },
 "nbformat": 4,
 "nbformat_minor": 4
}
